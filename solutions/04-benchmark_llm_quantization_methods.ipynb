{
 "cells": [
  {
   "cell_type": "markdown",
   "metadata": {},
   "source": [
    "# 04: Benchmark LLM Quantization Methods"
   ]
  },
  {
   "cell_type": "markdown",
   "metadata": {},
   "source": [
    "## 1. Imports"
   ]
  },
  {
   "cell_type": "code",
   "execution_count": 1,
   "metadata": {},
   "outputs": [],
   "source": [
    "import gc\n",
    "import copy\n",
    "# import os\n",
    "# CACHE_PATH = '<path_to_cache>'\n",
    "# os.environ[\"TORCH_HOME\"] = CACHE_PATH\n",
    "# os.environ[\"HF_HOME\"] = CACHE_PATH\n",
    "# os.environ[\"HUGGINGFACE_HUB_CACHE\"] = CACHE_PATH\n",
    "# os.environ[\"HUGGINGFACE_ASSETS_CACHE\"] = CACHE_PATH\n",
    "# os.environ[\"TRANSFORMERS_CACHE\"] = CACHE_PATH\n",
    "\n",
    "import matplotlib.pyplot as plt\n",
    "import torch\n",
    "from transformers import AutoModelForCausalLM, AutoTokenizer\n",
    "# from huggingface_hub import login; login(token=\"<hf_token>\")\n",
    "\n",
    "import pruna_pro\n",
    "from pruna_pro import SmashConfig\n",
    "from pruna_pro import smash\n",
    "from pruna.data.pruna_datamodule import PrunaDataModule\n",
    "from pruna.evaluation.evaluation_agent import EvaluationAgent\n",
    "from pruna.evaluation.metrics.metric_elapsed_time import ElapsedTimeMetric\n",
    "from pruna.evaluation.metrics.metric_torch import TorchMetricWrapper\n",
    "from pruna.evaluation.metrics.metric_energy import EnergyMetric\n",
    "from pruna.evaluation.metrics.metric_memory import GPUMemoryMetric\n",
    "from pruna.evaluation.metrics.metric_model_architecture import ModelArchitectureMetric\n",
    "from pruna.evaluation.task import Task"
   ]
  },
  {
   "cell_type": "markdown",
   "metadata": {},
   "source": [
    "## 2. Utils\n",
    "\n",
    "The utils functions help for:\n",
    "- Load from a list of (small) models.  eel free to try other models until the GPU memory is not enough!\n",
    "- Make plots.\n",
    "- Iterate over evaluation and model configurations."
   ]
  },
  {
   "cell_type": "code",
   "execution_count": 2,
   "metadata": {},
   "outputs": [],
   "source": [
    "model_ids = [\n",
    "    # \"facebook/opt-125m\",\n",
    "    # \"facebook/opt-350m\", \n",
    "    # \"facebook/opt-1.3b\",\n",
    "    # \"facebook/opt-2.7b\",\n",
    "    # \"meta-llama/Llama-3.2-1B\",\n",
    "    # \"meta-llama/Llama-3.2-1B-Instruct\",\n",
    "    # \"meta-llama/Llama-3.2-3B-Instruct\",\n",
    "    # \"google/gemma-3-1b-it\",\n",
    "    # \"google/gemma-3-4b-it\",\n",
    "    # \"deepseek-ai/DeepSeek-R1-Distill-Qwen-1.5B\",\n",
    "    # \"microsoft/Phi-4-mini-instruct\",\n",
    "    # \"HuggingFaceTB/SmolLM-135M\",\n",
    "    # \"HuggingFaceTB/SmolLM-135M-instruct\",\n",
    "    # \"HuggingFaceTB/SmolLM-360M\", \n",
    "    # \"HuggingFaceTB/SmolLM-360M-Instruct\",\n",
    "    # \"HuggingFaceTB/SmolLM-1.7B\",\n",
    "    # \"HuggingFaceTB/SmolLM-1.7B-Instruct\",\n",
    "    # \"HuggingFaceTB/SmolLM2-135M\",\n",
    "    # \"HuggingFaceTB/SmolLM2-135M-Instruct\",\n",
    "    # \"HuggingFaceTB/SmolLM2-360M\",\n",
    "    # \"HuggingFaceTB/SmolLM2-360M-Instruct\", \n",
    "    # \"HuggingFaceTB/SmolLM2-1.7B\",\n",
    "    # \"HuggingFaceTB/SmolLM2-1.7B-Instruct\",\n",
    "    \"PleIAs/Pleias-350m-Preview\",\n",
    "    # \"PleIAs/Pleias-Pico\",\n",
    "    # \"PleIAs/Pleias-1.2b-Preview\",\n",
    "    # \"PleIAs/Pleias-Nano\",\n",
    "    # \"PleIAs/Pleias-3b-Preview\",\n",
    "]\n",
    "\n",
    "# Load model and tokenizer for first model in list\n",
    "model_id = model_ids[0]\n",
    "model = AutoModelForCausalLM.from_pretrained(model_id)\n",
    "tokenizer = AutoTokenizer.from_pretrained(model_id)"
   ]
  },
  {
   "cell_type": "code",
   "execution_count": 3,
   "metadata": {},
   "outputs": [],
   "source": [
    "def evaluate_model(model, tokenizer, dataset=\"WikiText\"):\n",
    "    \"\"\"Evaluate a language model using multiple metrics.\n",
    "\n",
    "    Args:\n",
    "        model: The language model to evaluate (AutoModelForCausalLM)\n",
    "        tokenizer: The tokenizer associated with the model (AutoTokenizer) \n",
    "        dataset: Name of the dataset to evaluate on (default: \"WikiText\")\n",
    "\n",
    "    Returns:\n",
    "        dict: Dictionary containing evaluation results with metrics like:\n",
    "            - Elapsed time (inference speed)\n",
    "            - GPU memory usage\n",
    "            - Energy consumption\n",
    "            - Model architecture details\n",
    "            - Perplexity score\n",
    "    \"\"\"\n",
    "    metrics = [\n",
    "        ElapsedTimeMetric(n_iterations = 100,\n",
    "                          n_warmup_iterations = 10,\n",
    "                          device = \"cuda\",\n",
    "                          timing_type = \"sync\",),\n",
    "        GPUMemoryMetric(mode = \"disk\"),\n",
    "        EnergyMetric(n_iterations = 100,\n",
    "                n_warmup_iterations = 10,\n",
    "                device = \"cuda\"),\n",
    "        ModelArchitectureMetric(),\n",
    "        TorchMetricWrapper(metric_name=\"perplexity\", call_type=\"y_gt\")\n",
    "            ]\n",
    "\n",
    "    task = Task(metrics, datamodule=PrunaDataModule.from_string(dataset, tokenizer=tokenizer))\n",
    "    eval_agent = EvaluationAgent(task)\n",
    "\n",
    "    # Run evaluation\n",
    "    return eval_agent.evaluate(model)"
   ]
  },
  {
   "cell_type": "markdown",
   "metadata": {},
   "source": [
    "## 3. Benchmark LLM Quantization Methods\n",
    "\n",
    "We recommend to checkout the [Pruna documentation](https://docs.pruna.ai/en/stable/docs_pruna/user_manual/evaluation.html) for access to AI efficiency functions."
   ]
  },
  {
   "cell_type": "markdown",
   "metadata": {},
   "source": [
    "### 3.1 Define quantization configurations\n",
    "\n",
    "**Implementation task:**\n",
    "- Define LLM.int8(), GPTQ, HQQ, AWQ, Quanto quantization configurations for 4 bits quantization.\n",
    "- Benchmark the base models on GPU with respect to the latency metrics.\n",
    "\n",
    "**Questions:**\n",
    "- Which method uses linear/codebook quantization?\n",
    "- Which method quantizes the weights/activations?"
   ]
  },
  {
   "cell_type": "code",
   "execution_count": 4,
   "metadata": {},
   "outputs": [
    {
     "name": "stderr",
     "output_type": "stream",
     "text": [
      "INFO - Using max_seq_len of tokenizer: None\n",
      "INFO - Testing compatibility with functools.partial(<function text_generation_collate at 0x7f0f9f8ea440>, tokenizer=PreTrainedTokenizerFast(name_or_path='PleIAs/Pleias-350m-Preview', vocab_size=65536, model_max_length=1000000000000000019884624838656, is_fast=True, padding_side='right', truncation_side='right', special_tokens={'bos_token': '<|end_of_text|>', 'eos_token': '<|end_of_text|>', 'unk_token': '[UNK]'}, clean_up_tokenization_spaces=True, added_tokens_decoder={\n",
      "\t0: AddedToken(\"[UNK]\", rstrip=False, lstrip=False, single_word=False, normalized=False, special=True),\n",
      "\t1: AddedToken(\"<|begin_of_text|>\", rstrip=False, lstrip=False, single_word=False, normalized=False, special=True),\n",
      "\t2: AddedToken(\"<|end_of_text|>\", rstrip=False, lstrip=False, single_word=False, normalized=False, special=True),\n",
      "\t3: AddedToken(\"[PAD]\", rstrip=False, lstrip=False, single_word=False, normalized=False, special=True),\n",
      "}\n",
      "), max_seq_len=None)...\n",
      "Asking to truncate to max_length but no maximum length is provided and the model has no predefined maximum length. Default to no truncation.\n",
      "INFO - Testing compatibility with functools.partial(<function text_generation_collate at 0x7f0f9f8ea440>, tokenizer=PreTrainedTokenizerFast(name_or_path='PleIAs/Pleias-350m-Preview', vocab_size=65536, model_max_length=1000000000000000019884624838656, is_fast=True, padding_side='right', truncation_side='right', special_tokens={'bos_token': '<|end_of_text|>', 'eos_token': '<|end_of_text|>', 'unk_token': '[UNK]'}, clean_up_tokenization_spaces=True, added_tokens_decoder={\n",
      "\t0: AddedToken(\"[UNK]\", rstrip=False, lstrip=False, single_word=False, normalized=False, special=True),\n",
      "\t1: AddedToken(\"<|begin_of_text|>\", rstrip=False, lstrip=False, single_word=False, normalized=False, special=True),\n",
      "\t2: AddedToken(\"<|end_of_text|>\", rstrip=False, lstrip=False, single_word=False, normalized=False, special=True),\n",
      "\t3: AddedToken(\"[PAD]\", rstrip=False, lstrip=False, single_word=False, normalized=False, special=True),\n",
      "}\n",
      "), max_seq_len=None)...\n",
      "Asking to truncate to max_length but no maximum length is provided and the model has no predefined maximum length. Default to no truncation.\n"
     ]
    }
   ],
   "source": [
    "# Create list of SmashConfig with different quantization methods\n",
    "smash_configs = []\n",
    "\n",
    "### To Complete ###\n",
    "# LLM INT8\n",
    "config_llm_int8 = SmashConfig()\n",
    "config_llm_int8.add_tokenizer(model_id)\n",
    "config_llm_int8['quantizer'] = 'llm_int8'\n",
    "config_llm_int8['llm_int8_weight_bits'] = 4\n",
    "smash_configs.append(config_llm_int8)\n",
    "\n",
    "# GPTQ\n",
    "config_gptq = SmashConfig()\n",
    "config_gptq.add_tokenizer(model_id)\n",
    "config_gptq.add_data(\"WikiText\")\n",
    "config_gptq['quantizer'] = 'gptq'\n",
    "config_gptq['gptq_weight_bits'] = 4\n",
    "smash_configs.append(config_gptq)\n",
    "\n",
    "# HQQ\n",
    "config_hqq = SmashConfig()\n",
    "config_hqq.add_tokenizer(model_id)\n",
    "config_hqq['quantizer'] = 'hqq'\n",
    "config_hqq['hqq_weight_bits'] = 4\n",
    "smash_configs.append(config_hqq)\n",
    "\n",
    "# AWQ\n",
    "config_awq = SmashConfig()\n",
    "config_awq.add_tokenizer(model_id)\n",
    "config_awq.add_data(\"WikiText\")\n",
    "config_awq['quantizer'] = 'awq'\n",
    "config_awq['awq_weight_bits'] = 4\n",
    "smash_configs.append(config_awq)\n",
    "\n",
    "# Quanto\n",
    "config_quanto = SmashConfig()\n",
    "config_quanto.add_tokenizer(model_id)\n",
    "config_quanto['quantizer'] = 'quanto'\n",
    "config_quanto['quanto_weight_bits'] = \"qint4\"\n",
    "smash_configs.append(config_quanto)\n",
    "### End of To Complete ###"
   ]
  },
  {
   "cell_type": "markdown",
   "metadata": {},
   "source": [
    "### 3.2 Evaluate quantization configurations\n",
    "\n",
    "**Implementation task:**\n",
    "- Apply all the quantization configurations on the base model.\n",
    "- Evaluate all the quantization configurations on GPU by using the `evaluate_model` function.\n",
    "\n",
    "**Questions:**\n",
    "- Which method uses the least amount of memory?\n",
    "- Which method is the fastest?\n",
    "- Which method has the best energy efficiency?\n",
    "- Which method has the best perplexity?"
   ]
  },
  {
   "cell_type": "code",
   "execution_count": 5,
   "metadata": {},
   "outputs": [],
   "source": [
    "def evaluate_configs(model, smash_configs, dataset=\"WikiText\"):\n",
    "    \"\"\"Evaluate multiple quantization configurations on a model.\n",
    "\n",
    "    Args:\n",
    "        model: The base model to quantize and evaluate\n",
    "        smash_configs: List of SmashConfig objects containing quantization settings\n",
    "        dataset: Name of dataset to evaluate on (default: \"WikiText\")\n",
    "\n",
    "    Returns:\n",
    "        dict: Results dictionary mapping quantizer names to evaluation metrics\n",
    "    \"\"\"\n",
    "    results = {}\n",
    "    \n",
    "    ### To Complete ###\n",
    "    for config in smash_configs:\n",
    "        # Deep copy the model for this config\n",
    "        model_copy = copy.deepcopy(model)\n",
    "        \n",
    "        try:\n",
    "            # Apply quantization\n",
    "            quantized_model = smash(model_copy, config)\n",
    "            \n",
    "            # Evaluate\n",
    "            result = evaluate_model(quantized_model, tokenizer, dataset)\n",
    "            results[config['quantizer']] = result\n",
    "            \n",
    "        except Exception as e:\n",
    "            print(f\"Error evaluating {config['quantizer']}: {str(e)}\")\n",
    "            results[config['quantizer']] = None\n",
    "\n",
    "        finally:\n",
    "            # Clean up\n",
    "            del model_copy\n",
    "            try:\n",
    "                del quantized_model\n",
    "            except:\n",
    "                pass\n",
    "            torch.cuda.empty_cache()\n",
    "            gc.collect()\n",
    "    ### End of To Complete ###\n",
    "    \n",
    "    return results"
   ]
  },
  {
   "cell_type": "code",
   "execution_count": 6,
   "metadata": {
    "scrolled": true
   },
   "outputs": [
    {
     "name": "stderr",
     "output_type": "stream",
     "text": [
      "INFO - Verifying Pruna token.\n",
      "INFO - You have used 128 hours this month.\n",
      "INFO - Starting quantizer llm_int8...\n",
      "`low_cpu_mem_usage` was None, now default to True since model is quantized.\n",
      "INFO - quantizer llm_int8 was applied successfully.\n",
      "INFO - You have used 128 hours this month.\n",
      "INFO - Using call_type: y_gt for metric perplexity\n",
      "INFO - Testing compatibility with functools.partial(<function text_generation_collate at 0x7ff7e6942c20>, tokenizer=PreTrainedTokenizerFast(name_or_path='PleIAs/Pleias-350m-Preview', vocab_size=65536, model_max_length=1000000000000000019884624838656, is_fast=True, padding_side='right', truncation_side='right', special_tokens={'bos_token': '<|end_of_text|>', 'eos_token': '<|end_of_text|>', 'unk_token': '[UNK]'}, clean_up_tokenization_spaces=True, added_tokens_decoder={\n",
      "\t0: AddedToken(\"[UNK]\", rstrip=False, lstrip=False, single_word=False, normalized=False, special=True),\n",
      "\t1: AddedToken(\"<|begin_of_text|>\", rstrip=False, lstrip=False, single_word=False, normalized=False, special=True),\n",
      "\t2: AddedToken(\"<|end_of_text|>\", rstrip=False, lstrip=False, single_word=False, normalized=False, special=True),\n",
      "\t3: AddedToken(\"[PAD]\", rstrip=False, lstrip=False, single_word=False, normalized=False, special=True),\n",
      "}\n",
      "), max_seq_len=None)...\n",
      "Asking to truncate to max_length but no maximum length is provided and the model has no predefined maximum length. Default to no truncation.\n",
      "INFO - Using provided list of metric instances.\n",
      "INFO - Evaluating a smashed model.\n",
      "INFO - Detected transformers model. Using TransformerHandler.\n",
      "- The first element of the batch is passed as input.\n",
      "- The generated outputs are expected to have .logits attribute.\n",
      "INFO - Evaluating stateful metrics.\n",
      "INFO - Evaluating isolated inference metrics.\n",
      "INFO - You have used 128 hours this month.\n",
      "`low_cpu_mem_usage` was None, now default to True since model is quantized.\n",
      "INFO - You have used 128 hours this month.\n",
      "INFO - Utilized GPUs: [0]\n",
      "INFO - Calculating memory usage...\n",
      "Current architecture assumes model parallelism, and sums memory usage of all GPUs.\n",
      "[codecarbon INFO @ 18:08:39] [setup] RAM Tracking...\n",
      "[codecarbon WARNING @ 18:08:39] Could not find mem= after running `scontrol show job $SLURM_JOB_ID` to count SLURM-available RAM. Using the machine's total RAM.\n",
      "[codecarbon INFO @ 18:08:39] [setup] CPU Tracking...\n",
      "[codecarbon WARNING @ 18:08:39] No CPU tracking mode found. Falling back on CPU constant mode. \n",
      " Linux OS detected: Please ensure RAPL files exist at \\sys\\class\\powercap\\intel-rapl to measure CPU\n",
      "\n",
      "[codecarbon WARNING @ 18:08:40] We saw that you have a Intel(R) Xeon(R) w3-2423 but we don't know it. Please contact us.\n",
      "[codecarbon INFO @ 18:08:40] CPU Model on constant consumption mode: Intel(R) Xeon(R) w3-2423\n",
      "[codecarbon INFO @ 18:08:40] [setup] GPU Tracking...\n",
      "[codecarbon INFO @ 18:08:40] Tracking Nvidia GPU via pynvml\n",
      "[codecarbon INFO @ 18:08:40] >>> Tracker's metadata:\n",
      "[codecarbon INFO @ 18:08:40]   Platform system: Linux-5.15.0-78-lowlatency-x86_64-with-glibc2.35\n",
      "[codecarbon INFO @ 18:08:40]   Python version: 3.10.16\n",
      "[codecarbon INFO @ 18:08:40]   CodeCarbon version: 2.8.3\n",
      "[codecarbon INFO @ 18:08:40]   Available RAM : 30.596 GB\n",
      "[codecarbon INFO @ 18:08:40]   CPU count: 12\n",
      "[codecarbon INFO @ 18:08:40]   CPU model: Intel(R) Xeon(R) w3-2423\n",
      "[codecarbon INFO @ 18:08:40]   GPU count: 1\n",
      "[codecarbon INFO @ 18:08:40]   GPU model: 1 x NVIDIA GeForce GTX 1080 Ti\n",
      "[codecarbon INFO @ 18:08:43] Saving emissions data to file /usr/users/llmonedgestellantis/pech_esa/Documents/courses/exercises/emissions.csv\n",
      "INFO - You have used 128 hours this month.\n",
      "`low_cpu_mem_usage` was None, now default to True since model is quantized.\n",
      "INFO - You have used 128 hours this month.\n",
      "[codecarbon WARNING @ 18:08:44] Background scheduler didn't run for a long period (1s), results might be inaccurate\n",
      "[codecarbon INFO @ 18:08:44] Energy consumed for RAM : 0.000004 kWh. RAM Power : 11.473640441894531 W\n",
      "[codecarbon INFO @ 18:08:44] Energy consumed for all CPUs : 0.000015 kWh. Total CPU Power : 42.5 W\n",
      "[codecarbon INFO @ 18:08:44] Energy consumed for all GPUs : 0.000024 kWh. Total GPU Power : 68.38294119472395 W\n",
      "[codecarbon INFO @ 18:08:44] 0.000044 kWh of electricity used since the beginning.\n",
      "[codecarbon WARNING @ 18:08:50] Background scheduler didn't run for a long period (5s), results might be inaccurate\n",
      "[codecarbon INFO @ 18:08:50] Energy consumed for RAM : 0.000022 kWh. RAM Power : 11.473640441894531 W\n",
      "[codecarbon INFO @ 18:08:50] Energy consumed for all CPUs : 0.000080 kWh. Total CPU Power : 42.5 W\n",
      "[codecarbon INFO @ 18:08:50] Energy consumed for all GPUs : 0.000375 kWh. Total GPU Power : 228.6151856726083 W\n",
      "[codecarbon INFO @ 18:08:50] 0.000477 kWh of electricity used since the beginning.\n",
      "[codecarbon INFO @ 18:08:50] Energy consumed for RAM : 0.000022 kWh. RAM Power : 11.473640441894531 W\n",
      "[codecarbon INFO @ 18:08:50] Energy consumed for all CPUs : 0.000081 kWh. Total CPU Power : 42.5 W\n",
      "[codecarbon INFO @ 18:08:50] Energy consumed for all GPUs : 0.000377 kWh. Total GPU Power : 236.49304975869748 W\n",
      "[codecarbon INFO @ 18:08:50] 0.000480 kWh of electricity used since the beginning.\n",
      "INFO - Verifying Pruna token.\n",
      "INFO - You have used 128 hours this month.\n",
      "INFO - Starting quantizer gptq...\n",
      "WARNING:auto_gptq.nn_modules.qlinear.qlinear_cuda:CUDA extension not installed.\n",
      "WARNING:auto_gptq.nn_modules.qlinear.qlinear_cuda_old:CUDA extension not installed.\n"
     ]
    },
    {
     "data": {
      "application/vnd.jupyter.widget-view+json": {
       "model_id": "220a8c621f0841eaaa3ce573eceae942",
       "version_major": 2,
       "version_minor": 0
      },
      "text/plain": [
       "Quantizing model.layers blocks :   0%|          | 0/26 [00:00<?, ?it/s]"
      ]
     },
     "metadata": {},
     "output_type": "display_data"
    },
    {
     "data": {
      "application/vnd.jupyter.widget-view+json": {
       "model_id": "e02112b6e64f48f593b593a7c4719978",
       "version_major": 2,
       "version_minor": 0
      },
      "text/plain": [
       "Quantizing layers inside the block:   0%|          | 0/7 [00:00<?, ?it/s]"
      ]
     },
     "metadata": {},
     "output_type": "display_data"
    },
    {
     "data": {
      "application/vnd.jupyter.widget-view+json": {
       "model_id": "68d6f5be74164dd5a2c3c89581b56dd7",
       "version_major": 2,
       "version_minor": 0
      },
      "text/plain": [
       "Quantizing layers inside the block:   0%|          | 0/7 [00:00<?, ?it/s]"
      ]
     },
     "metadata": {},
     "output_type": "display_data"
    },
    {
     "data": {
      "application/vnd.jupyter.widget-view+json": {
       "model_id": "d3cb1c11601e487f96dac17b984629ce",
       "version_major": 2,
       "version_minor": 0
      },
      "text/plain": [
       "Quantizing layers inside the block:   0%|          | 0/7 [00:00<?, ?it/s]"
      ]
     },
     "metadata": {},
     "output_type": "display_data"
    },
    {
     "data": {
      "application/vnd.jupyter.widget-view+json": {
       "model_id": "9d13c2f9738a4ca181331286784b9ead",
       "version_major": 2,
       "version_minor": 0
      },
      "text/plain": [
       "Quantizing layers inside the block:   0%|          | 0/7 [00:00<?, ?it/s]"
      ]
     },
     "metadata": {},
     "output_type": "display_data"
    },
    {
     "data": {
      "application/vnd.jupyter.widget-view+json": {
       "model_id": "47efee7556d4468a9e2e9a30d283cb8a",
       "version_major": 2,
       "version_minor": 0
      },
      "text/plain": [
       "Quantizing layers inside the block:   0%|          | 0/7 [00:00<?, ?it/s]"
      ]
     },
     "metadata": {},
     "output_type": "display_data"
    },
    {
     "data": {
      "application/vnd.jupyter.widget-view+json": {
       "model_id": "900b12f5f3a34da1a28428a1e4bf02bf",
       "version_major": 2,
       "version_minor": 0
      },
      "text/plain": [
       "Quantizing layers inside the block:   0%|          | 0/7 [00:00<?, ?it/s]"
      ]
     },
     "metadata": {},
     "output_type": "display_data"
    },
    {
     "data": {
      "application/vnd.jupyter.widget-view+json": {
       "model_id": "8af5bf0b74594a1e8d5da0fa24202163",
       "version_major": 2,
       "version_minor": 0
      },
      "text/plain": [
       "Quantizing layers inside the block:   0%|          | 0/7 [00:00<?, ?it/s]"
      ]
     },
     "metadata": {},
     "output_type": "display_data"
    },
    {
     "data": {
      "application/vnd.jupyter.widget-view+json": {
       "model_id": "2401822b08104e529fd927574a8979e5",
       "version_major": 2,
       "version_minor": 0
      },
      "text/plain": [
       "Quantizing layers inside the block:   0%|          | 0/7 [00:00<?, ?it/s]"
      ]
     },
     "metadata": {},
     "output_type": "display_data"
    },
    {
     "data": {
      "application/vnd.jupyter.widget-view+json": {
       "model_id": "78470ad27446407bb64913a684ff0a1d",
       "version_major": 2,
       "version_minor": 0
      },
      "text/plain": [
       "Quantizing layers inside the block:   0%|          | 0/7 [00:00<?, ?it/s]"
      ]
     },
     "metadata": {},
     "output_type": "display_data"
    },
    {
     "data": {
      "application/vnd.jupyter.widget-view+json": {
       "model_id": "be247c2c6ecc4e1aaa61ed0868544828",
       "version_major": 2,
       "version_minor": 0
      },
      "text/plain": [
       "Quantizing layers inside the block:   0%|          | 0/7 [00:00<?, ?it/s]"
      ]
     },
     "metadata": {},
     "output_type": "display_data"
    },
    {
     "data": {
      "application/vnd.jupyter.widget-view+json": {
       "model_id": "e6f8fbf991c34d0cb64160123915a732",
       "version_major": 2,
       "version_minor": 0
      },
      "text/plain": [
       "Quantizing layers inside the block:   0%|          | 0/7 [00:00<?, ?it/s]"
      ]
     },
     "metadata": {},
     "output_type": "display_data"
    },
    {
     "data": {
      "application/vnd.jupyter.widget-view+json": {
       "model_id": "07b9dfceaa59436dacf03cf1568518b5",
       "version_major": 2,
       "version_minor": 0
      },
      "text/plain": [
       "Quantizing layers inside the block:   0%|          | 0/7 [00:00<?, ?it/s]"
      ]
     },
     "metadata": {},
     "output_type": "display_data"
    },
    {
     "data": {
      "application/vnd.jupyter.widget-view+json": {
       "model_id": "b5fd097d24e94936b6a9f05022abb928",
       "version_major": 2,
       "version_minor": 0
      },
      "text/plain": [
       "Quantizing layers inside the block:   0%|          | 0/7 [00:00<?, ?it/s]"
      ]
     },
     "metadata": {},
     "output_type": "display_data"
    },
    {
     "data": {
      "application/vnd.jupyter.widget-view+json": {
       "model_id": "08e98ff9f6a84a54b8590b9a78c4e5e7",
       "version_major": 2,
       "version_minor": 0
      },
      "text/plain": [
       "Quantizing layers inside the block:   0%|          | 0/7 [00:00<?, ?it/s]"
      ]
     },
     "metadata": {},
     "output_type": "display_data"
    },
    {
     "data": {
      "application/vnd.jupyter.widget-view+json": {
       "model_id": "f6ec2d187d8c41fc96ffc15ad94c2514",
       "version_major": 2,
       "version_minor": 0
      },
      "text/plain": [
       "Quantizing layers inside the block:   0%|          | 0/7 [00:00<?, ?it/s]"
      ]
     },
     "metadata": {},
     "output_type": "display_data"
    },
    {
     "data": {
      "application/vnd.jupyter.widget-view+json": {
       "model_id": "e0b746261d3e4e17875b588e32150521",
       "version_major": 2,
       "version_minor": 0
      },
      "text/plain": [
       "Quantizing layers inside the block:   0%|          | 0/7 [00:00<?, ?it/s]"
      ]
     },
     "metadata": {},
     "output_type": "display_data"
    },
    {
     "data": {
      "application/vnd.jupyter.widget-view+json": {
       "model_id": "df8518ee43df4fb28ebda5f5b20bba1e",
       "version_major": 2,
       "version_minor": 0
      },
      "text/plain": [
       "Quantizing layers inside the block:   0%|          | 0/7 [00:00<?, ?it/s]"
      ]
     },
     "metadata": {},
     "output_type": "display_data"
    },
    {
     "data": {
      "application/vnd.jupyter.widget-view+json": {
       "model_id": "18683d090a8e4a40a2b7614eccb247c8",
       "version_major": 2,
       "version_minor": 0
      },
      "text/plain": [
       "Quantizing layers inside the block:   0%|          | 0/7 [00:00<?, ?it/s]"
      ]
     },
     "metadata": {},
     "output_type": "display_data"
    },
    {
     "data": {
      "application/vnd.jupyter.widget-view+json": {
       "model_id": "3893da95191c49cba088c05d95dea183",
       "version_major": 2,
       "version_minor": 0
      },
      "text/plain": [
       "Quantizing layers inside the block:   0%|          | 0/7 [00:00<?, ?it/s]"
      ]
     },
     "metadata": {},
     "output_type": "display_data"
    },
    {
     "data": {
      "application/vnd.jupyter.widget-view+json": {
       "model_id": "490b3fc047e947c6b392aa1f0974db90",
       "version_major": 2,
       "version_minor": 0
      },
      "text/plain": [
       "Quantizing layers inside the block:   0%|          | 0/7 [00:00<?, ?it/s]"
      ]
     },
     "metadata": {},
     "output_type": "display_data"
    },
    {
     "data": {
      "application/vnd.jupyter.widget-view+json": {
       "model_id": "8c4c62cb9c5847fd8c4846ad02ccff3c",
       "version_major": 2,
       "version_minor": 0
      },
      "text/plain": [
       "Quantizing layers inside the block:   0%|          | 0/7 [00:00<?, ?it/s]"
      ]
     },
     "metadata": {},
     "output_type": "display_data"
    },
    {
     "data": {
      "application/vnd.jupyter.widget-view+json": {
       "model_id": "6c1a130bac424ed0b785275eea72df71",
       "version_major": 2,
       "version_minor": 0
      },
      "text/plain": [
       "Quantizing layers inside the block:   0%|          | 0/7 [00:00<?, ?it/s]"
      ]
     },
     "metadata": {},
     "output_type": "display_data"
    },
    {
     "data": {
      "application/vnd.jupyter.widget-view+json": {
       "model_id": "0b27f38ec31f497daa9ca65f503a1b73",
       "version_major": 2,
       "version_minor": 0
      },
      "text/plain": [
       "Quantizing layers inside the block:   0%|          | 0/7 [00:00<?, ?it/s]"
      ]
     },
     "metadata": {},
     "output_type": "display_data"
    },
    {
     "data": {
      "application/vnd.jupyter.widget-view+json": {
       "model_id": "397dfaed37ee4c7bba8125e402cf6a83",
       "version_major": 2,
       "version_minor": 0
      },
      "text/plain": [
       "Quantizing layers inside the block:   0%|          | 0/7 [00:00<?, ?it/s]"
      ]
     },
     "metadata": {},
     "output_type": "display_data"
    },
    {
     "data": {
      "application/vnd.jupyter.widget-view+json": {
       "model_id": "9e5c5670844846a996738b015dddfd2a",
       "version_major": 2,
       "version_minor": 0
      },
      "text/plain": [
       "Quantizing layers inside the block:   0%|          | 0/7 [00:00<?, ?it/s]"
      ]
     },
     "metadata": {},
     "output_type": "display_data"
    },
    {
     "data": {
      "application/vnd.jupyter.widget-view+json": {
       "model_id": "8351a3d861644b4e9bbc4c61e790a7a5",
       "version_major": 2,
       "version_minor": 0
      },
      "text/plain": [
       "Quantizing layers inside the block:   0%|          | 0/7 [00:00<?, ?it/s]"
      ]
     },
     "metadata": {},
     "output_type": "display_data"
    },
    {
     "name": "stderr",
     "output_type": "stream",
     "text": [
      "WARNING:optimum.gptq.quantizer:Using Exllamav2 backend will reorder the weights offline, thus you will not be able to save the model with the right weights.Setting `disable_exllama=True`. You should only use Exllamav2 backend for inference. \n",
      "`loss_type=None` was set in the config but it is unrecognised.Using the default loss: `ForCausalLMLoss`.\n",
      "INFO - quantizer gptq was applied successfully.\n",
      "INFO - You have used 129 hours this month.\n",
      "INFO - Using call_type: y_gt for metric perplexity\n",
      "INFO - Testing compatibility with functools.partial(<function text_generation_collate at 0x7ff7e6942c20>, tokenizer=PreTrainedTokenizerFast(name_or_path='PleIAs/Pleias-350m-Preview', vocab_size=65536, model_max_length=1000000000000000019884624838656, is_fast=True, padding_side='right', truncation_side='right', special_tokens={'bos_token': '<|end_of_text|>', 'eos_token': '<|end_of_text|>', 'unk_token': '[UNK]'}, clean_up_tokenization_spaces=True, added_tokens_decoder={\n",
      "\t0: AddedToken(\"[UNK]\", rstrip=False, lstrip=False, single_word=False, normalized=False, special=True),\n",
      "\t1: AddedToken(\"<|begin_of_text|>\", rstrip=False, lstrip=False, single_word=False, normalized=False, special=True),\n",
      "\t2: AddedToken(\"<|end_of_text|>\", rstrip=False, lstrip=False, single_word=False, normalized=False, special=True),\n",
      "\t3: AddedToken(\"[PAD]\", rstrip=False, lstrip=False, single_word=False, normalized=False, special=True),\n",
      "}\n",
      "), max_seq_len=None)...\n",
      "INFO - Using provided list of metric instances.\n",
      "INFO - Evaluating a smashed model.\n",
      "INFO - Detected transformers model. Using TransformerHandler.\n",
      "- The first element of the batch is passed as input.\n",
      "- The generated outputs are expected to have .logits attribute.\n",
      "INFO - Evaluating stateful metrics.\n",
      "INFO - Evaluating isolated inference metrics.\n",
      "INFO - Data detected in smash config, this will be detached and not reloaded...\n",
      "INFO - You have used 129 hours this month.\n",
      "`low_cpu_mem_usage` was None, now default to True since model is quantized.\n",
      "WARNING:optimum.gptq.quantizer:Found modules on cpu/disk. Using Exllama/Exllamav2 backend requires all the modules to be on GPU. Setting `disable_exllama=True`\n",
      "INFO - You have used 129 hours this month.\n",
      "INFO - Utilized GPUs: [0]\n",
      "INFO - Calculating memory usage...\n",
      "Current architecture assumes model parallelism, and sums memory usage of all GPUs.\n",
      "INFO - Data detected in smash config, this will be detached and not reloaded...\n",
      "[codecarbon INFO @ 18:21:52] [setup] RAM Tracking...\n",
      "[codecarbon WARNING @ 18:21:52] Could not find mem= after running `scontrol show job $SLURM_JOB_ID` to count SLURM-available RAM. Using the machine's total RAM.\n",
      "[codecarbon INFO @ 18:21:52] [setup] CPU Tracking...\n",
      "[codecarbon WARNING @ 18:21:52] No CPU tracking mode found. Falling back on CPU constant mode. \n",
      " Linux OS detected: Please ensure RAPL files exist at \\sys\\class\\powercap\\intel-rapl to measure CPU\n",
      "\n",
      "[codecarbon WARNING @ 18:21:53] We saw that you have a Intel(R) Xeon(R) w3-2423 but we don't know it. Please contact us.\n",
      "[codecarbon INFO @ 18:21:53] CPU Model on constant consumption mode: Intel(R) Xeon(R) w3-2423\n",
      "[codecarbon INFO @ 18:21:53] [setup] GPU Tracking...\n",
      "[codecarbon INFO @ 18:21:53] Tracking Nvidia GPU via pynvml\n",
      "[codecarbon INFO @ 18:21:53] >>> Tracker's metadata:\n",
      "[codecarbon INFO @ 18:21:53]   Platform system: Linux-5.15.0-78-lowlatency-x86_64-with-glibc2.35\n",
      "[codecarbon INFO @ 18:21:53]   Python version: 3.10.16\n",
      "[codecarbon INFO @ 18:21:53]   CodeCarbon version: 2.8.3\n",
      "[codecarbon INFO @ 18:21:53]   Available RAM : 30.596 GB\n",
      "[codecarbon INFO @ 18:21:53]   CPU count: 12\n",
      "[codecarbon INFO @ 18:21:53]   CPU model: Intel(R) Xeon(R) w3-2423\n",
      "[codecarbon INFO @ 18:21:53]   GPU count: 1\n",
      "[codecarbon INFO @ 18:21:53]   GPU model: 1 x NVIDIA GeForce GTX 1080 Ti\n",
      "[codecarbon INFO @ 18:21:56] Saving emissions data to file /usr/users/llmonedgestellantis/pech_esa/Documents/courses/exercises/emissions.csv\n",
      "INFO - You have used 129 hours this month.\n",
      "`low_cpu_mem_usage` was None, now default to True since model is quantized.\n",
      "WARNING:optimum.gptq.quantizer:Found modules on cpu/disk. Using Exllama/Exllamav2 backend requires all the modules to be on GPU. Setting `disable_exllama=True`\n",
      "INFO - You have used 129 hours this month.\n",
      "[codecarbon WARNING @ 18:21:57] Background scheduler didn't run for a long period (1s), results might be inaccurate\n",
      "[codecarbon INFO @ 18:21:57] Energy consumed for RAM : 0.000005 kWh. RAM Power : 11.473640441894531 W\n",
      "[codecarbon INFO @ 18:21:57] Energy consumed for all CPUs : 0.000018 kWh. Total CPU Power : 42.5 W\n",
      "[codecarbon INFO @ 18:21:57] Energy consumed for all GPUs : 0.000033 kWh. Total GPU Power : 75.56693019463816 W\n",
      "[codecarbon INFO @ 18:21:57] 0.000056 kWh of electricity used since the beginning.\n",
      "[codecarbon WARNING @ 18:22:04] Background scheduler didn't run for a long period (5s), results might be inaccurate\n",
      "[codecarbon INFO @ 18:22:04] Energy consumed for RAM : 0.000024 kWh. RAM Power : 11.473640441894531 W\n",
      "[codecarbon INFO @ 18:22:04] Energy consumed for all CPUs : 0.000088 kWh. Total CPU Power : 42.5 W\n",
      "[codecarbon INFO @ 18:22:04] Energy consumed for all GPUs : 0.000430 kWh. Total GPU Power : 243.21573963387223 W\n",
      "[codecarbon INFO @ 18:22:04] 0.000541 kWh of electricity used since the beginning.\n",
      "[codecarbon INFO @ 18:22:04] Energy consumed for RAM : 0.000024 kWh. RAM Power : 11.473640441894531 W\n",
      "[codecarbon INFO @ 18:22:04] Energy consumed for all CPUs : 0.000088 kWh. Total CPU Power : 42.5 W\n",
      "[codecarbon INFO @ 18:22:04] Energy consumed for all GPUs : 0.000432 kWh. Total GPU Power : 310.3417457873801 W\n",
      "[codecarbon INFO @ 18:22:04] 0.000544 kWh of electricity used since the beginning.\n",
      "INFO - Verifying Pruna token.\n",
      "INFO - You have used 129 hours this month.\n",
      "INFO - Starting quantizer hqq...\n",
      "`low_cpu_mem_usage` was None, now default to True since model is quantized.\n",
      "ERROR - Error casting model to device: `.to` is not supported for HQQ-quantized models.\n",
      "ERROR - Error: [Errno 39] Directory not empty: '/usr/users/llmonedgestellantis/pech_esa/.cache/pruna/tmpn7gvr_ky/tmpcc_gqn2h'\n",
      "100%|█████████████████████████████████████████| 81/81 [00:00<00:00, 1130.40it/s]\n",
      "100%|█████████████████████████████████████████| 183/183 [00:03<00:00, 54.01it/s]\n",
      "ERROR - Error: Only bfloat16 compute_dtype is supported.\n",
      "INFO - quantizer hqq was applied successfully.\n",
      "INFO - You have used 129 hours this month.\n",
      "INFO - Using call_type: y_gt for metric perplexity\n",
      "INFO - Testing compatibility with functools.partial(<function text_generation_collate at 0x7ff7e6942c20>, tokenizer=PreTrainedTokenizerFast(name_or_path='PleIAs/Pleias-350m-Preview', vocab_size=65536, model_max_length=1000000000000000019884624838656, is_fast=True, padding_side='right', truncation_side='right', special_tokens={'bos_token': '<|end_of_text|>', 'eos_token': '<|end_of_text|>', 'unk_token': '[UNK]'}, clean_up_tokenization_spaces=True, added_tokens_decoder={\n",
      "\t0: AddedToken(\"[UNK]\", rstrip=False, lstrip=False, single_word=False, normalized=False, special=True),\n",
      "\t1: AddedToken(\"<|begin_of_text|>\", rstrip=False, lstrip=False, single_word=False, normalized=False, special=True),\n",
      "\t2: AddedToken(\"<|end_of_text|>\", rstrip=False, lstrip=False, single_word=False, normalized=False, special=True),\n",
      "\t3: AddedToken(\"[PAD]\", rstrip=False, lstrip=False, single_word=False, normalized=False, special=True),\n",
      "}\n",
      "), max_seq_len=None)...\n",
      "INFO - Using provided list of metric instances.\n",
      "INFO - Evaluating a smashed model.\n",
      "INFO - Detected transformers model. Using TransformerHandler.\n",
      "- The first element of the batch is passed as input.\n",
      "- The generated outputs are expected to have .logits attribute.\n",
      "INFO - Evaluating stateful metrics.\n",
      "INFO - Evaluating isolated inference metrics.\n",
      "INFO - You have used 129 hours this month.\n",
      "  0%|                                                    | 0/26 [00:00<?, ?it/s]\n",
      "ERROR - Error loading model using HQQ: 'LlamaAttention' object has no attribute 'rotary_emb'\n",
      "100%|████████████████████████████████████████| 81/81 [00:00<00:00, 73393.52it/s]\n",
      "100%|██████████████████████████████████████| 183/183 [00:00<00:00, 10537.01it/s]\n",
      "INFO - You have used 129 hours this month.\n",
      "INFO - Utilized GPUs: [0]\n",
      "INFO - Calculating memory usage...\n",
      "Current architecture assumes model parallelism, and sums memory usage of all GPUs.\n",
      "[codecarbon INFO @ 18:25:36] [setup] RAM Tracking...\n",
      "[codecarbon WARNING @ 18:25:36] Could not find mem= after running `scontrol show job $SLURM_JOB_ID` to count SLURM-available RAM. Using the machine's total RAM.\n",
      "[codecarbon INFO @ 18:25:36] [setup] CPU Tracking...\n",
      "[codecarbon WARNING @ 18:25:36] No CPU tracking mode found. Falling back on CPU constant mode. \n",
      " Linux OS detected: Please ensure RAPL files exist at \\sys\\class\\powercap\\intel-rapl to measure CPU\n",
      "\n",
      "[codecarbon WARNING @ 18:25:37] We saw that you have a Intel(R) Xeon(R) w3-2423 but we don't know it. Please contact us.\n",
      "[codecarbon INFO @ 18:25:37] CPU Model on constant consumption mode: Intel(R) Xeon(R) w3-2423\n",
      "[codecarbon INFO @ 18:25:37] [setup] GPU Tracking...\n",
      "[codecarbon INFO @ 18:25:37] Tracking Nvidia GPU via pynvml\n",
      "[codecarbon INFO @ 18:25:37] >>> Tracker's metadata:\n",
      "[codecarbon INFO @ 18:25:37]   Platform system: Linux-5.15.0-78-lowlatency-x86_64-with-glibc2.35\n",
      "[codecarbon INFO @ 18:25:37]   Python version: 3.10.16\n",
      "[codecarbon INFO @ 18:25:37]   CodeCarbon version: 2.8.3\n",
      "[codecarbon INFO @ 18:25:37]   Available RAM : 30.596 GB\n",
      "[codecarbon INFO @ 18:25:37]   CPU count: 12\n",
      "[codecarbon INFO @ 18:25:37]   CPU model: Intel(R) Xeon(R) w3-2423\n",
      "[codecarbon INFO @ 18:25:37]   GPU count: 1\n",
      "[codecarbon INFO @ 18:25:37]   GPU model: 1 x NVIDIA GeForce GTX 1080 Ti\n",
      "[codecarbon INFO @ 18:25:40] Saving emissions data to file /usr/users/llmonedgestellantis/pech_esa/Documents/courses/exercises/emissions.csv\n",
      "INFO - You have used 129 hours this month.\n",
      "  0%|                                                    | 0/26 [00:00<?, ?it/s]\n",
      "ERROR - Error loading model using HQQ: 'LlamaAttention' object has no attribute 'rotary_emb'\n",
      "100%|████████████████████████████████████████| 81/81 [00:00<00:00, 37989.34it/s]\n",
      "100%|██████████████████████████████████████| 183/183 [00:00<00:00, 10660.82it/s]\n",
      "INFO - You have used 129 hours this month.\n",
      "[codecarbon WARNING @ 18:25:42] Background scheduler didn't run for a long period (2s), results might be inaccurate\n",
      "[codecarbon INFO @ 18:25:42] Energy consumed for RAM : 0.000007 kWh. RAM Power : 11.473640441894531 W\n",
      "[codecarbon INFO @ 18:25:42] Energy consumed for all CPUs : 0.000027 kWh. Total CPU Power : 42.5 W\n",
      "[codecarbon INFO @ 18:25:42] Energy consumed for all GPUs : 0.000043 kWh. Total GPU Power : 68.57725146071216 W\n",
      "[codecarbon INFO @ 18:25:42] 0.000077 kWh of electricity used since the beginning.\n",
      "[codecarbon WARNING @ 18:25:52] Background scheduler didn't run for a long period (8s), results might be inaccurate\n",
      "[codecarbon INFO @ 18:25:52] Energy consumed for RAM : 0.000035 kWh. RAM Power : 11.473640441894531 W\n",
      "[codecarbon INFO @ 18:25:52] Energy consumed for all CPUs : 0.000130 kWh. Total CPU Power : 42.5 W\n",
      "[codecarbon INFO @ 18:25:52] Energy consumed for all GPUs : 0.000484 kWh. Total GPU Power : 181.6693143121929 W\n",
      "[codecarbon INFO @ 18:25:52] 0.000650 kWh of electricity used since the beginning.\n",
      "[codecarbon INFO @ 18:25:52] Energy consumed for RAM : 0.000035 kWh. RAM Power : 11.473640441894531 W\n",
      "[codecarbon INFO @ 18:25:52] Energy consumed for all CPUs : 0.000130 kWh. Total CPU Power : 42.5 W\n",
      "[codecarbon INFO @ 18:25:52] Energy consumed for all GPUs : 0.000486 kWh. Total GPU Power : 195.68645113963933 W\n",
      "[codecarbon INFO @ 18:25:52] 0.000652 kWh of electricity used since the beginning.\n",
      "INFO - Verifying Pruna token.\n",
      "INFO - You have used 129 hours this month.\n",
      "INFO - Starting quantizer awq...\n",
      "AWQ:   0%|                                               | 0/26 [00:01<?, ?it/s]\n"
     ]
    },
    {
     "name": "stdout",
     "output_type": "stream",
     "text": [
      "Error evaluating awq: LlamaAttention.forward() missing 1 required positional argument: 'attention_mask'\n"
     ]
    },
    {
     "name": "stderr",
     "output_type": "stream",
     "text": [
      "INFO - Verifying Pruna token.\n",
      "INFO - You have used 129 hours this month.\n",
      "INFO - Starting quantizer quanto...\n",
      "ERROR - Calibration requires a tokenizer and dataloader. Skipping calibration.\n",
      "INFO - quantizer quanto was applied successfully.\n",
      "INFO - You have used 129 hours this month.\n",
      "INFO - Using call_type: y_gt for metric perplexity\n",
      "INFO - Testing compatibility with functools.partial(<function text_generation_collate at 0x7ff7e6942c20>, tokenizer=PreTrainedTokenizerFast(name_or_path='PleIAs/Pleias-350m-Preview', vocab_size=65536, model_max_length=1000000000000000019884624838656, is_fast=True, padding_side='right', truncation_side='right', special_tokens={'bos_token': '<|end_of_text|>', 'eos_token': '<|end_of_text|>', 'unk_token': '[UNK]'}, clean_up_tokenization_spaces=True, added_tokens_decoder={\n",
      "\t0: AddedToken(\"[UNK]\", rstrip=False, lstrip=False, single_word=False, normalized=False, special=True),\n",
      "\t1: AddedToken(\"<|begin_of_text|>\", rstrip=False, lstrip=False, single_word=False, normalized=False, special=True),\n",
      "\t2: AddedToken(\"<|end_of_text|>\", rstrip=False, lstrip=False, single_word=False, normalized=False, special=True),\n",
      "\t3: AddedToken(\"[PAD]\", rstrip=False, lstrip=False, single_word=False, normalized=False, special=True),\n",
      "}\n",
      "), max_seq_len=None)...\n",
      "INFO - Using provided list of metric instances.\n",
      "INFO - Evaluating a smashed model.\n",
      "INFO - Detected transformers model. Using TransformerHandler.\n",
      "- The first element of the batch is passed as input.\n",
      "- The generated outputs are expected to have .logits attribute.\n",
      "INFO - Evaluating stateful metrics.\n",
      "INFO - Evaluating isolated inference metrics.\n",
      "INFO - You have used 130 hours this month.\n",
      "INFO - You have used 130 hours this month.\n",
      "INFO - Utilized GPUs: [0]\n",
      "INFO - Calculating memory usage...\n",
      "Current architecture assumes model parallelism, and sums memory usage of all GPUs.\n",
      "[codecarbon INFO @ 18:28:09] [setup] RAM Tracking...\n",
      "[codecarbon WARNING @ 18:28:09] Could not find mem= after running `scontrol show job $SLURM_JOB_ID` to count SLURM-available RAM. Using the machine's total RAM.\n",
      "[codecarbon INFO @ 18:28:09] [setup] CPU Tracking...\n",
      "[codecarbon WARNING @ 18:28:09] No CPU tracking mode found. Falling back on CPU constant mode. \n",
      " Linux OS detected: Please ensure RAPL files exist at \\sys\\class\\powercap\\intel-rapl to measure CPU\n",
      "\n",
      "[codecarbon WARNING @ 18:28:10] We saw that you have a Intel(R) Xeon(R) w3-2423 but we don't know it. Please contact us.\n",
      "[codecarbon INFO @ 18:28:10] CPU Model on constant consumption mode: Intel(R) Xeon(R) w3-2423\n",
      "[codecarbon INFO @ 18:28:10] [setup] GPU Tracking...\n",
      "[codecarbon INFO @ 18:28:10] Tracking Nvidia GPU via pynvml\n",
      "[codecarbon INFO @ 18:28:10] >>> Tracker's metadata:\n",
      "[codecarbon INFO @ 18:28:10]   Platform system: Linux-5.15.0-78-lowlatency-x86_64-with-glibc2.35\n",
      "[codecarbon INFO @ 18:28:10]   Python version: 3.10.16\n",
      "[codecarbon INFO @ 18:28:10]   CodeCarbon version: 2.8.3\n",
      "[codecarbon INFO @ 18:28:10]   Available RAM : 30.596 GB\n",
      "[codecarbon INFO @ 18:28:10]   CPU count: 12\n",
      "[codecarbon INFO @ 18:28:10]   CPU model: Intel(R) Xeon(R) w3-2423\n",
      "[codecarbon INFO @ 18:28:10]   GPU count: 1\n",
      "[codecarbon INFO @ 18:28:10]   GPU model: 1 x NVIDIA GeForce GTX 1080 Ti\n",
      "[codecarbon INFO @ 18:28:13] Saving emissions data to file /usr/users/llmonedgestellantis/pech_esa/Documents/courses/exercises/emissions.csv\n",
      "INFO - You have used 130 hours this month.\n",
      "INFO - You have used 130 hours this month.\n",
      "[codecarbon WARNING @ 18:28:14] Background scheduler didn't run for a long period (1s), results might be inaccurate\n",
      "[codecarbon INFO @ 18:28:14] Energy consumed for RAM : 0.000004 kWh. RAM Power : 11.473640441894531 W\n",
      "[codecarbon INFO @ 18:28:14] Energy consumed for all CPUs : 0.000015 kWh. Total CPU Power : 42.5 W\n",
      "[codecarbon INFO @ 18:28:14] Energy consumed for all GPUs : 0.000024 kWh. Total GPU Power : 69.53938424451763 W\n",
      "[codecarbon INFO @ 18:28:14] 0.000042 kWh of electricity used since the beginning.\n",
      "[codecarbon WARNING @ 18:28:20] Background scheduler didn't run for a long period (5s), results might be inaccurate\n",
      "[codecarbon INFO @ 18:28:20] Energy consumed for RAM : 0.000021 kWh. RAM Power : 11.473640441894531 W\n",
      "[codecarbon INFO @ 18:28:20] Energy consumed for all CPUs : 0.000079 kWh. Total CPU Power : 42.5 W\n",
      "[codecarbon INFO @ 18:28:20] Energy consumed for all GPUs : 0.000391 kWh. Total GPU Power : 242.64018062189388 W\n",
      "[codecarbon INFO @ 18:28:20] 0.000491 kWh of electricity used since the beginning.\n",
      "[codecarbon INFO @ 18:28:20] Energy consumed for RAM : 0.000021 kWh. RAM Power : 11.473640441894531 W\n",
      "[codecarbon INFO @ 18:28:20] Energy consumed for all CPUs : 0.000079 kWh. Total CPU Power : 42.5 W\n",
      "[codecarbon INFO @ 18:28:20] Energy consumed for all GPUs : 0.000393 kWh. Total GPU Power : 266.48335726677965 W\n",
      "[codecarbon INFO @ 18:28:20] 0.000493 kWh of electricity used since the beginning.\n",
      "INFO - Verifying Pruna token.\n",
      "INFO - You have used 130 hours this month.\n",
      "INFO - Starting quantizer torch_static...\n"
     ]
    },
    {
     "name": "stdout",
     "output_type": "stream",
     "text": [
      "Error evaluating torch_static: Embedding quantization is only supported with float_qparams_weight_only_qconfig.\n"
     ]
    },
    {
     "name": "stderr",
     "output_type": "stream",
     "text": [
      "INFO - Verifying Pruna token.\n",
      "INFO - You have used 130 hours this month.\n",
      "INFO - Starting quantizer torch_dynamic...\n",
      "INFO - quantizer torch_dynamic was applied successfully.\n",
      "INFO - You have used 130 hours this month.\n",
      "INFO - Using call_type: y_gt for metric perplexity\n",
      "INFO - Testing compatibility with functools.partial(<function text_generation_collate at 0x7ff7e6942c20>, tokenizer=PreTrainedTokenizerFast(name_or_path='PleIAs/Pleias-350m-Preview', vocab_size=65536, model_max_length=1000000000000000019884624838656, is_fast=True, padding_side='right', truncation_side='right', special_tokens={'bos_token': '<|end_of_text|>', 'eos_token': '<|end_of_text|>', 'unk_token': '[UNK]'}, clean_up_tokenization_spaces=True, added_tokens_decoder={\n",
      "\t0: AddedToken(\"[UNK]\", rstrip=False, lstrip=False, single_word=False, normalized=False, special=True),\n",
      "\t1: AddedToken(\"<|begin_of_text|>\", rstrip=False, lstrip=False, single_word=False, normalized=False, special=True),\n",
      "\t2: AddedToken(\"<|end_of_text|>\", rstrip=False, lstrip=False, single_word=False, normalized=False, special=True),\n",
      "\t3: AddedToken(\"[PAD]\", rstrip=False, lstrip=False, single_word=False, normalized=False, special=True),\n",
      "}\n",
      "), max_seq_len=None)...\n",
      "INFO - Using provided list of metric instances.\n",
      "INFO - Evaluating a smashed model.\n",
      "INFO - Detected transformers model. Using TransformerHandler.\n",
      "- The first element of the batch is passed as input.\n",
      "- The generated outputs are expected to have .logits attribute.\n",
      "INFO - Evaluating stateful metrics.\n"
     ]
    },
    {
     "name": "stdout",
     "output_type": "stream",
     "text": [
      "Error evaluating torch_dynamic: Could not run 'quantized::linear_dynamic' with arguments from the 'CUDA' backend. This could be because the operator doesn't exist for this backend, or was omitted during the selective/custom build process (if using custom build). If you are a Facebook employee using PyTorch on mobile, please visit https://fburl.com/ptmfixes for possible resolutions. 'quantized::linear_dynamic' is only available for these backends: [CPU, Meta, BackendSelect, Python, FuncTorchDynamicLayerBackMode, Functionalize, Named, Conjugate, Negative, ZeroTensor, ADInplaceOrView, AutogradOther, AutogradCPU, AutogradCUDA, AutogradXLA, AutogradMPS, AutogradXPU, AutogradHPU, AutogradLazy, AutogradMeta, Tracer, AutocastCPU, AutocastXPU, AutocastMPS, AutocastCUDA, FuncTorchBatched, BatchedNestedTensor, FuncTorchVmapMode, Batched, VmapMode, FuncTorchGradWrapper, PythonTLSSnapshot, FuncTorchDynamicLayerFrontMode, PreDispatch, PythonDispatcher].\n",
      "\n",
      "CPU: registered at ../aten/src/ATen/native/quantized/cpu/qlinear_dynamic.cpp:791 [kernel]\n",
      "Meta: registered at ../aten/src/ATen/core/MetaFallbackKernel.cpp:23 [backend fallback]\n",
      "BackendSelect: fallthrough registered at ../aten/src/ATen/core/BackendSelectFallbackKernel.cpp:3 [backend fallback]\n",
      "Python: registered at ../aten/src/ATen/core/PythonFallbackKernel.cpp:153 [backend fallback]\n",
      "FuncTorchDynamicLayerBackMode: registered at ../aten/src/ATen/functorch/DynamicLayer.cpp:497 [backend fallback]\n",
      "Functionalize: registered at ../aten/src/ATen/FunctionalizeFallbackKernel.cpp:349 [backend fallback]\n",
      "Named: registered at ../aten/src/ATen/core/NamedRegistrations.cpp:7 [backend fallback]\n",
      "Conjugate: registered at ../aten/src/ATen/ConjugateFallback.cpp:17 [backend fallback]\n",
      "Negative: registered at ../aten/src/ATen/native/NegateFallback.cpp:18 [backend fallback]\n",
      "ZeroTensor: registered at ../aten/src/ATen/ZeroTensorFallback.cpp:86 [backend fallback]\n",
      "ADInplaceOrView: fallthrough registered at ../aten/src/ATen/core/VariableFallbackKernel.cpp:96 [backend fallback]\n",
      "AutogradOther: registered at ../aten/src/ATen/core/VariableFallbackKernel.cpp:63 [backend fallback]\n",
      "AutogradCPU: registered at ../aten/src/ATen/core/VariableFallbackKernel.cpp:67 [backend fallback]\n",
      "AutogradCUDA: registered at ../aten/src/ATen/core/VariableFallbackKernel.cpp:75 [backend fallback]\n",
      "AutogradXLA: registered at ../aten/src/ATen/core/VariableFallbackKernel.cpp:79 [backend fallback]\n",
      "AutogradMPS: registered at ../aten/src/ATen/core/VariableFallbackKernel.cpp:87 [backend fallback]\n",
      "AutogradXPU: registered at ../aten/src/ATen/core/VariableFallbackKernel.cpp:71 [backend fallback]\n",
      "AutogradHPU: registered at ../aten/src/ATen/core/VariableFallbackKernel.cpp:100 [backend fallback]\n",
      "AutogradLazy: registered at ../aten/src/ATen/core/VariableFallbackKernel.cpp:83 [backend fallback]\n",
      "AutogradMeta: registered at ../aten/src/ATen/core/VariableFallbackKernel.cpp:91 [backend fallback]\n",
      "Tracer: registered at ../torch/csrc/autograd/TraceTypeManual.cpp:294 [backend fallback]\n",
      "AutocastCPU: fallthrough registered at ../aten/src/ATen/autocast_mode.cpp:321 [backend fallback]\n",
      "AutocastXPU: fallthrough registered at ../aten/src/ATen/autocast_mode.cpp:463 [backend fallback]\n",
      "AutocastMPS: fallthrough registered at ../aten/src/ATen/autocast_mode.cpp:209 [backend fallback]\n",
      "AutocastCUDA: fallthrough registered at ../aten/src/ATen/autocast_mode.cpp:165 [backend fallback]\n",
      "FuncTorchBatched: registered at ../aten/src/ATen/functorch/LegacyBatchingRegistrations.cpp:731 [backend fallback]\n",
      "BatchedNestedTensor: registered at ../aten/src/ATen/functorch/LegacyBatchingRegistrations.cpp:758 [backend fallback]\n",
      "FuncTorchVmapMode: fallthrough registered at ../aten/src/ATen/functorch/VmapModeRegistrations.cpp:27 [backend fallback]\n",
      "Batched: registered at ../aten/src/ATen/LegacyBatchingRegistrations.cpp:1075 [backend fallback]\n",
      "VmapMode: fallthrough registered at ../aten/src/ATen/VmapModeRegistrations.cpp:33 [backend fallback]\n",
      "FuncTorchGradWrapper: registered at ../aten/src/ATen/functorch/TensorWrapper.cpp:207 [backend fallback]\n",
      "PythonTLSSnapshot: registered at ../aten/src/ATen/core/PythonFallbackKernel.cpp:161 [backend fallback]\n",
      "FuncTorchDynamicLayerFrontMode: registered at ../aten/src/ATen/functorch/DynamicLayer.cpp:493 [backend fallback]\n",
      "PreDispatch: registered at ../aten/src/ATen/core/PythonFallbackKernel.cpp:165 [backend fallback]\n",
      "PythonDispatcher: registered at ../aten/src/ATen/core/PythonFallbackKernel.cpp:157 [backend fallback]\n",
      "\n"
     ]
    }
   ],
   "source": [
    "evaluation_results = evaluate_configs(model, smash_configs)"
   ]
  },
  {
   "cell_type": "markdown",
   "metadata": {},
   "source": [
    "### 3.3 Compare quantized LLMs on a pareto front\n",
    "\n",
    "**Implementation task:**\n",
    "- Plot the results of the previous metrics in a pareto front. You can use the files containing the saved results when evaluating the previous metrics.\n",
    "\n",
    "**Questions:**\n",
    "- What is the best quantizedmodel on the pareto front?"
   ]
  },
  {
   "cell_type": "code",
   "execution_count": 7,
   "metadata": {},
   "outputs": [],
   "source": [
    "def plot_pareto_front(results, metric1_name, metric2_name):\n",
    "    \"\"\"\n",
    "    Plot a pareto front comparing two metrics across different quantization methods.\n",
    "\n",
    "    Args:\n",
    "        results (dict): Dictionary mapping quantizer names to their evaluation results\n",
    "        metric1_name (str): Name of the first metric to plot on x-axis\n",
    "        metric2_name (str): Name of the second metric to plot on y-axis\n",
    "\n",
    "    Creates a scatter plot showing the tradeoff between the two metrics for each quantizer,\n",
    "    with points labeled by quantizer name. Includes a grid and appropriate axis labels.\n",
    "    \"\"\"\n",
    "    # Extract metrics for each quantizer\n",
    "    quantizers = []\n",
    "    metric1_values = []\n",
    "    metric2_values = []\n",
    "    \n",
    "    for quantizer, result in results.items():\n",
    "        if result is not None and metric1_name in result and metric2_name in result:\n",
    "            quantizers.append(quantizer)\n",
    "            metric1_values.append(result[metric1_name])\n",
    "            metric2_values.append(result[metric2_name])\n",
    "    \n",
    "    plt.figure(figsize=(10, 6))\n",
    "    plt.scatter(metric1_values, metric2_values)\n",
    "    for i, quantizer in enumerate(quantizers):\n",
    "        plt.annotate(quantizer, (metric1_values[i], metric2_values[i]), \n",
    "                    xytext=(5, 5), textcoords='offset points')\n",
    "    plt.xlabel(metric1_name)\n",
    "    plt.ylabel(metric2_name)\n",
    "    plt.title(f'Pareto Front: {metric1_name} vs {metric2_name}')    \n",
    "    plt.grid(True, linestyle='--', alpha=0.7)\n",
    "    \n",
    "    plt.show()"
   ]
  },
  {
   "cell_type": "code",
   "execution_count": 11,
   "metadata": {},
   "outputs": [
    {
     "data": {
      "image/png": "[encoded data removed]",
      "text/plain": [
       "<Figure size 1000x600 with 1 Axes>"
      ]
     },
     "metadata": {},
     "output_type": "display_data"
    }
   ],
   "source": [
    "plot_pareto_front(evaluation_results, 'perplexity_y_gt', 'disk_memory')"
   ]
  },
  {
   "cell_type": "code",
   "execution_count": 10,
   "metadata": {},
   "outputs": [
    {
     "data": {
      "image/png": "[encoded data removed]",
      "text/plain": [
       "<Figure size 1000x600 with 1 Axes>"
      ]
     },
     "metadata": {},
     "output_type": "display_data"
    }
   ],
   "source": [
    "plot_pareto_front(evaluation_results, 'perplexity_y_gt', 'inference_latency_ms_@1')"
   ]
  },
  {
   "cell_type": "code",
   "execution_count": null,
   "metadata": {},
   "outputs": [],
   "source": []
  }
 ],
 "metadata": {
  "kernelspec": {
   "display_name": "Python 3 (ipykernel)",
   "language": "python",
   "name": "python3"
  },
  "language_info": {
   "codemirror_mode": {
    "name": "ipython",
    "version": 3
   },
   "file_extension": ".py",
   "mimetype": "text/x-python",
   "name": "python",
   "nbconvert_exporter": "python",
   "pygments_lexer": "ipython3",
   "version": "3.10.16"
  }
 },
 "nbformat": 4,
 "nbformat_minor": 4
}
